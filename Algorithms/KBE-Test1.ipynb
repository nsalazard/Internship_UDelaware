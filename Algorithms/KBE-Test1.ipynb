{
 "cells": [
  {
   "cell_type": "markdown",
   "id": "7e403b36-57a1-401e-bf06-08cfe9b1f478",
   "metadata": {},
   "source": [
    "## Libraries"
   ]
  },
  {
   "cell_type": "code",
   "execution_count": 37,
   "id": "a7e24bb2-584b-4a33-988b-b4b8acadbdf6",
   "metadata": {},
   "outputs": [
    {
     "data": {
      "text/plain": [
       "⊗ (generic function with 1 method)"
      ]
     },
     "execution_count": 37,
     "metadata": {},
     "output_type": "execute_result"
    }
   ],
   "source": [
    "using KadanoffBaym, LinearAlgebra, BlockArrays\n",
    "using Bessels\n",
    "using PyPlot\n",
    "using Tullio\n",
    "⊗(A,B) = kron(A,B)"
   ]
  },
  {
   "cell_type": "markdown",
   "id": "7ee2a723-0ed3-4aa3-99e8-0b8aa6acd10e",
   "metadata": {},
   "source": [
    "## Parameters and predifined quantities"
   ]
  },
  {
   "cell_type": "code",
   "execution_count": 38,
   "id": "c7a8658e-71a2-4f04-a46e-8794f9a7f5e3",
   "metadata": {},
   "outputs": [],
   "source": [
    "hbar = 1.#0.658211928e0  \n",
    "### Pauli matrices\n",
    "σ_0 = Matrix{ComplexF64}([1. 0. ; 0 1])\n",
    "σ_x =  Matrix{ComplexF64}([0 1; 1 0])\n",
    "σ_y =  Matrix{ComplexF64}([0 -1im ; 1im 0 ])\n",
    "σ_z = Matrix{ComplexF64}([1 0. ; 0. -1]) ; "
   ]
  },
  {
   "cell_type": "code",
   "execution_count": 39,
   "id": "0fb0144d-309d-48fa-b0d6-e7a9fbda9615",
   "metadata": {},
   "outputs": [],
   "source": [
    "# Lattice size\n",
    "L = 2\n",
    "nσ = 2\n",
    "nx = L\n",
    "ny = 1\n",
    "γ = 1\n",
    "γso = 0\n",
    "j_sd = 0\n",
    "# Allocate the initial Green functions (time arguments at the end)\n",
    "GL = GreenFunction(zeros(ComplexF64, nx*nσ, nx*nσ, 1, 1), SkewHermitian)\n",
    "GG = GreenFunction(zeros(ComplexF64, nx*nσ, nx*nσ, 1, 1), SkewHermitian);\n",
    "# GL_d = GreenFunction(zeros(ComplexF64, L, L, 1, 1), SkewHermitian)\n",
    "# GG_d = GreenFunction(zeros(ComplexF64, L, L, 1, 1), SkewHermitian);"
   ]
  },
  {
   "cell_type": "markdown",
   "id": "5455324f-0310-4d29-92a7-51ffd006e5da",
   "metadata": {},
   "source": [
    "### Auxiliary integrator"
   ]
  },
  {
   "cell_type": "code",
   "execution_count": 40,
   "id": "1f7ba3e0-853f-4870-a96e-bff27c8c30b5",
   "metadata": {},
   "outputs": [
    {
     "data": {
      "text/plain": [
       "integrate2 (generic function with 1 method)"
      ]
     },
     "execution_count": 40,
     "metadata": {},
     "output_type": "execute_result"
    }
   ],
   "source": [
    "function integrate0(t1,t2,A)\n",
    "    retval = 0.0\n",
    "    dt = 0.01\n",
    "    ts = t2:dt:t1\n",
    "    A_vec = A.(ts)\n",
    "    @tullio retval = A_vec[α]\n",
    "    retval = retval*dt\n",
    "end\n",
    "# Auxiliary integrator for the first type of integral\n",
    "function integrate1(hs::Vector, t1, t2, A::GreenFunction, B::GreenFunction, C::GreenFunction; tmax=t1)\n",
    "    retval = zero(A[t1, t1])\n",
    "    @inbounds for k in 1:tmax\n",
    "        @views LinearAlgebra.mul!(retval, A[t1, k] - B[t1, k], C[k, t2], hs[k], 1.0)\n",
    "    end\n",
    "    return retval\n",
    "end\n",
    "# Auxiliary integrator for the second type of integral\n",
    "function integrate2(hs::Vector, t1, t2, A::GreenFunction, B::GreenFunction, C::GreenFunction; tmax=t2)\n",
    "    retval = zero(A[t1, t1])\n",
    "    @inbounds for k in 1:tmax\n",
    "        @views LinearAlgebra.mul!(retval, A[t1, k], B[k, t2] - C[k, t2], hs[k], 1.0)\n",
    "    end\n",
    "    return retval\n",
    "end"
   ]
  },
  {
   "cell_type": "markdown",
   "id": "bb3507a1-b1c8-4784-aa58-ca0fd200bf1a",
   "metadata": {},
   "source": [
    "## Self Energy "
   ]
  },
  {
   "cell_type": "code",
   "execution_count": 5,
   "id": "6d14900e-932a-4524-8381-c29ab67cbe46",
   "metadata": {},
   "outputs": [],
   "source": [
    "#### Dynamical variables \n",
    "Base.@kwdef struct FermiHubbardData2B{T}\n",
    "    GL::T\n",
    "    GG::T\n",
    "    ΣL::T # zero(GL)\n",
    "    ΣG::T # zero(GG)\n",
    "end\n"
   ]
  },
  {
   "cell_type": "code",
   "execution_count": 41,
   "id": "38f60a75-00c1-4834-ad2a-f8638df5451f",
   "metadata": {},
   "outputs": [
    {
     "data": {
      "text/plain": [
       "SelfG (generic function with 1 method)"
      ]
     },
     "execution_count": 41,
     "metadata": {},
     "output_type": "execute_result"
    }
   ],
   "source": [
    "#### Calculation of the self-energy \n",
    "function selfenergy(ϵ;γ=1,γc=1.)# thop = thop, t_ls = 1.) \n",
    "    ### Note that this configuration for the self energy can be modified later\n",
    "    #thop = global_var.thop\n",
    "    Δ = 4 * γ^2 - ϵ^2\n",
    "    if real(Δ) > 0\n",
    "        Σ = ϵ - im * sqrt(Δ)\n",
    "    else\n",
    "        if real(ϵ) > 0\n",
    "            sgn = 1\n",
    "        else\n",
    "            sgn = -1\n",
    "        end\n",
    "        Σ = ϵ - sgn * sqrt(-Δ)\n",
    "    end\n",
    "    Σ = Σ* (γc^2 / (2 * γ^2))\n",
    "    return Σ\n",
    "end\n",
    "function Gamma_ϵ(ϵ;γ=1,γc=1.)#\n",
    "    -2*imag(selfenergy(ϵ;γ=γ,γc=γc))\n",
    "end\n",
    "#using Bessels\n",
    "function Gamma_t(t;γ=1,γc=1.)#\n",
    "    γ^2/(γc^2)*γ^2*(besselj(0, 2*γ*t)+ besselj(2, 2*γ*t))#*exp(1im*μ*t)\n",
    "    #-2*imag(selfenergy(ϵ;γ=γ,γc=γc))\n",
    "end\n",
    "function Gamma2_t(t;γ=1,γc=1.)#\n",
    "    retval = 0.0\n",
    "    dϵ = 0.01\n",
    "    ϵs = -2γ:dϵ:2γ\n",
    "    Gamma = Gamma_ϵ.(ϵs;γ,γc)\n",
    "    e = exp.(-1im*ϵs*t)\n",
    "    @tullio retval = Gamma[α]*e[α]\n",
    "    retval = retval*dϵ/2pi#/(length(ϵs))\n",
    "end\n",
    "function fermi_mu(ϵ; μ=0.0, Temp=300)\n",
    "    KB = 8.6173324e-5           ### Bolzmann factor\n",
    "   1/(1. + exp((ϵ-μ)/(KB*Temp)  ))   \n",
    "end\n",
    "function SelfL(t;γ=1,γc=1.)\n",
    "    retval = 0.0\n",
    "    dϵ = 0.01\n",
    "    ϵs = -2γ:dϵ:2γ\n",
    "    Gamma = Gamma_ϵ.(ϵs;γ,γc)\n",
    "    e = exp.(-1im*ϵs*t)\n",
    "    f = fermi_mu.(ϵs)\n",
    "    @tullio retval = Gamma[α]*e[α]*f[α]\n",
    "    retval = 1im*retval*dϵ/2pi\n",
    "end\n",
    "function SelfG(t;γ=1,γc=1.)\n",
    "    retval = 0.0\n",
    "    dϵ = 0.01\n",
    "    ϵs = -2γ:dϵ:2γ\n",
    "    Gamma = Gamma_ϵ.(ϵs;γ,γc)\n",
    "    e = exp.(-1im*ϵs*t)\n",
    "    f = -fermi_mu.(ϵs) .+ 1\n",
    "    @tullio retval = Gamma[α]*e[α]*f[α]\n",
    "    retval = -1im*retval*dϵ/2pi\n",
    "end"
   ]
  },
  {
   "cell_type": "code",
   "execution_count": 42,
   "id": "5ab7f6d2-0280-4298-8acd-91da1cbf1fa3",
   "metadata": {},
   "outputs": [
    {
     "data": {
      "text/plain": [
       "self_Lead! (generic function with 1 method)"
      ]
     },
     "execution_count": 42,
     "metadata": {},
     "output_type": "execute_result"
    }
   ],
   "source": [
    "# Callback function for the self-energies\n",
    "function self_Lead!(model,data,times,_,_,t,t′)\n",
    "    # Unpack data and model \n",
    "    (;GL,GG,ΣL,ΣG) = data\n",
    "    (;Δ1, Δ2) = model\n",
    "    ∫ds(A) = integrate0(times[t],times[t′], A  ) \n",
    "    # Resize self energies \n",
    "    if (n = size(GL,3)) > size(ΣL,3)\n",
    "        resize!(ΣL, n)\n",
    "        resize!(ΣG, n)\n",
    "    end\n",
    "    ### Time dependece of the leads \n",
    "    ϕ1_t = ∫ds(Δ1)#Δ1(times[t], times[t′] )\n",
    "    ϕ2_t = ∫ds(Δ2)\n",
    "    #Δ2_t = Δ2(times[t], times[t′] )\n",
    "    ### Setting the component of the left self-energy\n",
    "    self = SelfL(times[t] - times[t′];γ=1.0,γc=1.0)\n",
    "    selfL0 = zeros(ComplexF64,L*nσ,L*nσ)\n",
    "    selfL0[1:nσ,1:nσ] = self*exp(-1im*ϕ1_t)*diagm(ones(nσ))### Left lead selfenergy \n",
    "    selfL0[end-nσ+1:end,end-nσ+1:end] = self*exp(-1im*ϕ2_t)*diagm(ones(nσ)) ### Right lead selfenergy \n",
    "    ### Setting the component of the right self-energy\n",
    "    self = SelfG(times[t] - times[t′];γ=1.0,γc=1.0)\n",
    "    selfG0 = zeros(ComplexF64,L*nσ,L*nσ)\n",
    "    selfG0[1:nσ,1:nσ] = self*exp(-1im*ϕ1_t)*diagm(ones(nσ)) ### Left lead selfenergy \n",
    "    selfG0[end-nσ+1:end,end-nσ+1:end] = self*exp(-1im*ϕ2_t)*diagm(ones(nσ)) ### Right lead selfenergy \n",
    "\n",
    "    ### Define the self energies \n",
    "    ΣL[t, t′] = selfL0#exp()\n",
    "    ΣG[t, t′] = selfG0\n",
    "end"
   ]
  },
  {
   "cell_type": "code",
   "execution_count": 43,
   "id": "2c290c95-6070-4a9e-a5eb-c7f5478879d8",
   "metadata": {},
   "outputs": [],
   "source": [
    "#SelfL(0.0;γ=1,γc=1.)"
   ]
  },
  {
   "cell_type": "code",
   "execution_count": 46,
   "id": "27e003ec-768a-4c66-9c45-f86f1a11fcaf",
   "metadata": {},
   "outputs": [],
   "source": [
    "# Gamma2_t(0.1)\n",
    "# 1/(2*pi*0.1)\n",
    "# ϵs = -4:0.1:4\n",
    "# length(ϵs)\n",
    "# ts= 0.1:0.1:50\n",
    "# # plot(ts,Gamma_t.(ts))\n",
    "# # plot(ts,Gamma2_t.(ts)/2)\n",
    "# plot(ts,SelfL.(ts))\n",
    "# plt.ylim(-0.1,0.1)\n",
    "\n",
    "# # es=-4:0.1:4\n",
    "# # # plot(es,real(selfenergy.(es)))\n",
    "# # # plot(es,imag(selfenergy.(es)))\n",
    "# # plot(es,Gamma_ϵ.(es))\n",
    "# SelfG(0)"
   ]
  },
  {
   "cell_type": "markdown",
   "id": "0babe55d-ca51-4ff5-abf9-219755862a04",
   "metadata": {},
   "source": [
    "## Hamiltonian "
   ]
  },
  {
   "cell_type": "code",
   "execution_count": 47,
   "id": "fd22797d-cc1f-4a07-b1f6-10bdc85d52ba",
   "metadata": {},
   "outputs": [
    {
     "data": {
      "text/plain": [
       "hs (generic function with 1 method)"
      ]
     },
     "execution_count": 47,
     "metadata": {},
     "output_type": "execute_result"
    }
   ],
   "source": [
    "############# Building Hamiltonian\n",
    "#### Create electronic Hamiltonian \n",
    "function block_h(;ny=1,γ=1,γso=0.0)\n",
    "    #γ::Float64,γso::ComplexF64,Bz::Float64,ny::Int)\n",
    "    \"Creates the building blocks for a general nx x ny square lattice \"\n",
    "    dim = ny*2 # We include the spin degree of freedom \n",
    "    ######\n",
    "    H0 = zeros(ComplexF64,dim,dim)\n",
    "    T  = zeros(ComplexF64,dim,dim)\n",
    "    One_y = Diagonal(ones(ny))\n",
    "    ######\n",
    "    Ty = diagm(-1 =>  ones(ny-1))\n",
    "    T0 = Ty⊗(-γ*σ_0 - 1im*γso*σ_x)\n",
    "    H0 .= T0 + T0' #-Bz*kron(One_y, σ_z)\n",
    "    ######\n",
    "    T .= One_y⊗(-γ*σ_0 + γso*1im*σ_y)\n",
    "    return H0, T\n",
    "end\n",
    "\n",
    "function hs(vm_i1x::Array{Float64,2};nx=nx,ny=1,γ=1,γso=0.0,j_sd=0.0)\n",
    "    \"This function build the central hamiltonian wwith two band\"\n",
    "    #γ::Float64,γso::ComplexF64,Bz::Float64,nx::Int,ny::Int)\n",
    "    dim = nx*ny*2 #*2\n",
    "    zero = zeros(ComplexF64,nx,nx)\n",
    "    HC = zeros(ComplexF64,dim,dim)\n",
    "    One_x = Diagonal(ones(nx))\n",
    "    H0,T = block_h(;ny,γ,γso)\n",
    "    Tx = diagm( -1 =>  ones(nx-1))⊗T \n",
    "    HC = (One_x⊗H0) +  Tx + Tx'\n",
    "    ### Local moments\n",
    "    for i in range(1,nx) \n",
    "        zero[i,i] = 1.0\n",
    "        HC += -j_sd*zero⊗(vm_i1x[i,1]*σ_x\n",
    "                    +vm_i1x[i,2]*σ_y\n",
    "                    +vm_i1x[i,3]*σ_z)\n",
    "        zero[i,i] = 0.0\n",
    "    end\n",
    "    return HC\n",
    "end\n"
   ]
  },
  {
   "cell_type": "code",
   "execution_count": 53,
   "id": "babe0324-f8c3-4dc7-8dd0-9301297dbed1",
   "metadata": {},
   "outputs": [],
   "source": [
    "#### Auxiliary structure with the parameters of the model \n",
    "Base.@kwdef struct FermiOpenModel{T1,T2}\n",
    "    # interaction strength\n",
    "    # Time dependence of the self energies \n",
    "    Δ1::T1\n",
    "    Δ2::T2\n",
    "    #U::T\n",
    "    nx = nx\n",
    "    ny = ny\n",
    "    nσ = nσ\n",
    "    γ = γ\n",
    "    γso =  γso\n",
    "    j_sd = j_sd\n",
    "    # Initial configuration of the classical vectors \n",
    "    #vm_i1x = vm_i1x#zeros(Float64,  nx, 3)\n",
    "    vm_i1x = zeros(Float64,  L, 3);\n",
    "    # Hamiltonian of the system \n",
    "    hs = hs(vm_i1x;nx,ny,γ,γso,j_sd)\n",
    "    #H_u = h\n",
    "    #H_d = h\n",
    "end\n",
    "#model.Δ1"
   ]
  },
  {
   "cell_type": "markdown",
   "id": "cc0b5ab8-00b3-4754-930c-e9213d20b472",
   "metadata": {},
   "source": [
    "## Initial conditions "
   ]
  },
  {
   "cell_type": "code",
   "execution_count": 49,
   "id": "e241a158-6243-41d7-9f9c-a3e4ec3a8d99",
   "metadata": {},
   "outputs": [],
   "source": [
    "# Initial conditions\n",
    "# Relatively small interaction parameter\n",
    "U₀ = 0.05\n",
    "U₁ = 0\n",
    "model = FermiOpenModel(Δ1 = t1-> U₀,Δ2 = t2-> U₁)\n",
    "N = zeros(L*nσ)\n",
    "#vm_i1x = zeros(Float64,  L, 3)\n",
    "# N_d = zeros(L)\n",
    "# #######\n",
    "N[1:4] = 0.0 .* [1, 1, 1, 1]\n",
    "# N_d[1:4] = 0.1 .* [1, 1, 1, 1]\n",
    "# #######\n",
    "# N_u[5:8] = 0.0 .* [1, 1, 1, 1]\n",
    "# N_d[5:8] = 0.0 .* [1, 1, 1, 1]\n",
    "# #######\n",
    "GL[1, 1] = 1.0im * diagm(N)\n",
    "GG[1, 1] = -1.0im * (I - diagm(N)) ;\n",
    "ΣL = zero(GL)\n",
    "ΣG = zero(GG)\n",
    "ΣL[1,1] = SelfL(0;γ=1.0,γc=1.0)*diagm(ones(L*nσ))\n",
    "ΣG[1,1] = SelfG(0;γ=1.0,γc=1.0)*diagm(ones(L*nσ))\n",
    "data = FermiHubbardData2B(GL=GL, GG=GG, ΣL=ΣL, ΣG=ΣG) ;"
   ]
  },
  {
   "cell_type": "markdown",
   "id": "1de5c051-8bd7-4739-9055-b6eef6f87961",
   "metadata": {},
   "source": [
    "## EOMS"
   ]
  },
  {
   "cell_type": "code",
   "execution_count": 54,
   "id": "413afe2d-295f-4beb-aebc-e35c4d1f6940",
   "metadata": {},
   "outputs": [
    {
     "data": {
      "text/plain": [
       "fd! (generic function with 1 method)"
      ]
     },
     "execution_count": 54,
     "metadata": {},
     "output_type": "execute_result"
    }
   ],
   "source": [
    "# Right-hand side for the \"vertical\" evolution\n",
    "function fv!(model, data, out, times, h1, h2, t, t′)\n",
    "    # Unpack data and model\n",
    "    (; GL, GG, ΣL, ΣG) = data\n",
    "    (; hs, Δ1, Δ2) = model\n",
    "\n",
    "    # Real-time collision integrals\n",
    "    ∫dt1(A, B, C) = integrate1(h1, t, t′, A, B, C)\n",
    "    ∫dt2(A, B, C) = integrate2(h2, t, t′, A, B, C)\n",
    "    # Equations of motion\n",
    "    out[1] = -1.0im * ( hs* GL[t, t′] +\n",
    "        ∫dt1(ΣG, ΣL, GL) + ∫dt2(ΣL, GL, GG)) #### For G<_up\n",
    "    out[2] = -1.0im * (hs* GG[t, t′] +\n",
    "        ∫dt1(ΣG, ΣL, GG) + ∫dt2(ΣG, GL, GG)) #### For G>_up\n",
    "    return out\n",
    "end\n",
    "# Right-hand side for the \"diagonal\" evolution\n",
    "function fd!(model, data, out, times, h1, h2, t, t′)\n",
    "    fv!(model, data, out, times, h1, h2, t, t)\n",
    "    out[1] .-= adjoint.(out[1])\n",
    "    out[2] .-= adjoint.(out[2])\n",
    "end\n",
    "# Right-hand side for the \"diagonal\" evolution\n",
    "function fd!(model, data, out, times, h1, h2, t, t′)\n",
    "    fv!(model, data, out, times, h1, h2, t, t)\n",
    "    out .-= adjoint.(out)\n",
    "end"
   ]
  },
  {
   "cell_type": "markdown",
   "id": "8274d6c8-e41a-4a61-a157-3d8ed6cabbcd",
   "metadata": {},
   "source": [
    "## Evolution"
   ]
  },
  {
   "cell_type": "code",
   "execution_count": 55,
   "id": "91581347-2096-4e94-ac1e-bdbf9d91edfa",
   "metadata": {
    "scrolled": true
   },
   "outputs": [
    {
     "name": "stdout",
     "output_type": "stream",
     "text": [
      "time : 0.0\n",
      "time : 1.0e-6\n",
      "time : 5.999999999999999e-6\n",
      "time : 3.0999999999999995e-5\n",
      "time : 0.00015599999999999997\n",
      "time : 0.0007809999999999998\n",
      "time : 0.0023974687821693\n",
      "time : 0.0054696395896070196\n",
      "time : 0.012442450937067575\n",
      "time : 0.02473352829581648\n",
      "time : 0.040120814139428695\n",
      "time : 0.062386808414222804\n",
      "time : 0.0824262032615375\n",
      "time : 0.10866267635362542\n",
      "time : 0.14463360796789598\n",
      "time : 0.17797845211692137\n",
      "time : 0.2128465964199281\n",
      "time : 0.25281840706514436\n",
      "time : 0.2963124287282567\n",
      "time : 0.3418097457302164\n",
      "time : 0.3954068896899081\n",
      "time : 0.4436443192536307\n",
      "time : 0.49376177495164314\n",
      "time : 0.5447261271089472\n",
      "time : 0.6021623586073556\n",
      "time : 0.6701632654215867\n",
      "time : 0.7313640815543947\n",
      "time : 0.7875385035805536\n",
      "time : 0.8451454502860165\n",
      "time : 0.9067327721550065\n",
      "time : 0.9756029096413037\n",
      "time : 1.0492635684427907\n",
      "time : 1.1217323177765572\n",
      "time : 1.1954531219945526\n",
      "time : 1.1954531219945526\n",
      "time : 1.2672798552119087\n",
      "time : 1.331923915107529\n",
      "time : 1.3910338305157879\n",
      "time : 1.4503522616557751\n",
      "time : 1.520762812601806\n",
      "time : 1.5946527509073882\n",
      "time : 1.6640080285387573\n",
      "time : 1.7313849420786314\n",
      "time : 1.8024856990821994\n",
      "time : 1.880787839390981\n",
      "time : 1.880787839390981\n",
      "time : 1.9478479153068868\n",
      "time : 2.009786406697602\n",
      "time : 2.067653690642541\n",
      "time : 2.123880551817026\n",
      "time : 2.1813941075186642\n",
      "time : 2.239780480594409\n",
      "time : 2.3006851591684874\n",
      "time : 2.362598733734789\n",
      "time : 2.4244386765518606\n",
      "time : 2.4965399127152663\n",
      "time : 2.5614310252623316\n",
      "time : 2.6241044093486163\n",
      "time : 2.693824146614277\n",
      "time : 2.766516358146281\n",
      "time : 2.8439066241183424\n",
      "time : 2.919217513904572\n",
      "time : 3.0022391323878557\n",
      "time : 3.076958589022811\n",
      "time : 3.145703667707195\n",
      "time : 3.212044331292009\n",
      "time : 3.278430525550959\n",
      "time : 3.347572225771864\n",
      "time : 3.427308571802863\n",
      "time : 3.427308571802863\n",
      "time : 3.490167514463455\n",
      "time : 3.5488753720384225\n",
      "time : 3.6146893571320784\n",
      "time : 3.685881782314379\n",
      "time : 3.7610175103505847\n",
      "time : 3.8327539989205825\n",
      "time : 3.89855049684566\n",
      "time : 3.964803579921483\n",
      "time : 4.036837523430294\n",
      "time : 4.110424731842015\n",
      "time : 4.182172678064659\n",
      "time : 4.254404692734194\n",
      "time : 4.327927094958362\n",
      "time : 4.401692743311043\n",
      "time : 4.4758991543076\n",
      "time : 4.545546177719185\n",
      "time : 4.612545636604337\n",
      "time : 4.680397567613418\n",
      "time : 4.749851143188367\n",
      "time : 4.818967956079082\n",
      "time : 4.887439623798379\n",
      "time : 4.958783606733434\n",
      "time : 5.034652265459344\n",
      "time : 5.10934479557049\n",
      "time : 5.1819175143507765\n",
      "time : 5.253344881919591\n",
      "time : 5.324676999753417\n",
      "time : 5.397055941077633\n",
      "time : 5.470479158281851\n",
      "time : 5.542459821963713\n",
      "time : 5.610908741982113\n",
      "time : 5.676811676123485\n",
      "time : 5.742997625609445\n",
      "time : 5.810885279371682\n",
      "time : 5.877911800515184\n",
      "time : 5.941620300928732\n",
      "time : 6.002937420239887\n",
      "time : 6.067107235757293\n",
      "time : 6.134619966092797\n",
      "time : 6.206085600932779\n",
      "time : 6.280197835508822\n",
      "time : 6.355426215513804\n",
      "time : 6.432528068824077\n",
      "time : 6.508285245045254\n",
      "time : 6.578806347115894\n",
      "time : 6.646272542035675\n",
      "time : 6.714139185259162\n",
      "time : 6.785776426404967\n",
      "time : 6.865659855093989\n",
      "time : 6.944871618574306\n",
      "time : 7.0170098570218915\n",
      "time : 7.086430513999142\n",
      "time : 7.166766453660147\n",
      "time : 7.239068799355051\n",
      "time : 7.305514847260929\n",
      "time : 7.376683925657653\n",
      "time : 7.440736096214704\n",
      "time : 7.440736096214704\n",
      "time : 7.490665376629763\n",
      "time : 7.5364481372151575\n",
      "time : 7.583971724323471\n",
      "time : 7.652556673808385\n",
      "time : 7.652556673808385\n",
      "time : 7.652556673808385\n",
      "time : 7.696724830910309\n",
      "time : 7.7382591953447495\n",
      "time : 7.783166582890846\n",
      "time : 7.845161367741877\n",
      "time : 7.845161367741877\n",
      "time : 7.9084752650466585\n",
      "time : 7.965457772620962\n",
      "time : 8.020240559933917\n",
      "time : 8.069545068515577\n",
      "time : 8.1195446850838\n",
      "time : 8.175671739472397\n",
      "time : 8.23924335786217\n",
      "time : 8.304777697493224\n",
      "time : 8.366540889307451\n",
      "time : 8.425679840693443\n",
      "time : 8.486239855040854\n",
      "time : 8.551440325204407\n",
      "time : 8.621887145972725\n",
      "time : 8.696203760500653\n",
      "time : 8.774955728549612\n",
      "time : 8.860060138724771\n",
      "time : 8.951980529147106\n",
      "time : 9.04055329286023\n",
      "time : 9.125074233519264\n",
      "time : 9.212144882483239\n",
      "time : 9.30120484506764\n",
      "time : 9.3903924874462\n",
      "time : 9.476630115363895\n",
      "time : 9.563441525555492\n",
      "time : 9.657459082560193\n",
      "time : 9.742074883864424\n",
      "time : 9.820042986856684\n",
      "time : 9.899104444451796\n",
      "time : 9.975982575168825\n",
      "Total time of simulation: 14.942607123 s\n"
     ]
    }
   ],
   "source": [
    "# final time\n",
    "tmax = 10#80\n",
    "\n",
    "# tolerances\n",
    "atol = 1e-8#1e-7#\n",
    "rtol = 1e-6#1e-4#\n",
    "\n",
    "# Call the solver\n",
    "elapsed_time = @elapsed begin\n",
    "sol = kbsolve!(\n",
    "    (x...) -> fv!(model, data, x...),\n",
    "    (x...) -> fd!(model, data, x...),\n",
    "    [data.GL, data.GG],\n",
    "    (0.0, tmax);\n",
    "    callback = (x...) -> self_Lead!(model, data, x...),\n",
    "    atol = atol,\n",
    "    rtol = rtol,\n",
    "    stop = x -> (println(\"time : $(x[end])\"); flush(stdout); false)\n",
    ")\n",
    "end\n",
    "println(\"Total time of simulation: \", elapsed_time, \" s\" )"
   ]
  },
  {
   "cell_type": "markdown",
   "id": "a74773d6-8578-4583-b84e-cff07e021579",
   "metadata": {},
   "source": [
    "### Calculation of observables "
   ]
  },
  {
   "cell_type": "code",
   "execution_count": 79,
   "id": "b644da3a-c8c0-4428-a476-a541d42208a5",
   "metadata": {},
   "outputs": [
    {
     "data": {
      "text/plain": [
       "4×4 Matrix{ComplexF64}:\n",
       " -0.0+0.0im  -0.0+0.0im  -0.0+0.0im  -0.0+0.0im\n",
       " -0.0+0.0im  -0.0+0.0im  -0.0+0.0im  -0.0+0.0im\n",
       " -0.0+0.0im  -0.0+0.0im  -0.0+0.0im  -0.0+0.0im\n",
       " -0.0+0.0im  -0.0+0.0im  -0.0+0.0im  -0.0+0.0im"
      ]
     },
     "execution_count": 79,
     "metadata": {},
     "output_type": "execute_result"
    }
   ],
   "source": [
    "GL[1, 2]"
   ]
  },
  {
   "cell_type": "markdown",
   "id": "ab068733-8720-4076-b9ca-552f40044625",
   "metadata": {},
   "source": [
    "### Charge current "
   ]
  },
  {
   "cell_type": "code",
   "execution_count": 56,
   "id": "1cc2e419-2496-4e79-8676-02d4f128aa1e",
   "metadata": {},
   "outputs": [
    {
     "data": {
      "text/plain": [
       "∫dss (generic function with 1 method)"
      ]
     },
     "execution_count": 56,
     "metadata": {},
     "output_type": "execute_result"
    }
   ],
   "source": [
    "### Calculation of the current \n",
    "# Auxiliary integrator for the first type of integral\n",
    "function PI1(hs::Vector, t1, A::GreenFunction, B::GreenFunction)\n",
    "    retval = zero(A[t1, t1])\n",
    "    @inbounds for k in 1:t1\n",
    "        @views LinearAlgebra.mul!(retval, A[t1, k] , B[k, t1], hs[k], 1.0)\n",
    "    end\n",
    "    return retval\n",
    "end\n",
    "∫dss(t,A, B) = PI1(sol.w[t], t, A, B)"
   ]
  },
  {
   "cell_type": "code",
   "execution_count": 57,
   "id": "0d4708b0-6e36-4598-8f24-27f1f6b3c0a7",
   "metadata": {},
   "outputs": [
    {
     "data": {
      "text/plain": [
       "1:1:162"
      ]
     },
     "execution_count": 57,
     "metadata": {},
     "output_type": "execute_result"
    }
   ],
   "source": [
    "tss = 1:1:length(sol.t)"
   ]
  },
  {
   "cell_type": "code",
   "execution_count": 77,
   "id": "6ab70304-4ec6-42a6-91c1-8d2af10584e0",
   "metadata": {},
   "outputs": [
    {
     "data": {
      "text/plain": [
       "162-element Vector{Float64}:\n",
       "  0.0\n",
       "  1.0e-6\n",
       "  5.999999999999999e-6\n",
       "  3.0999999999999995e-5\n",
       "  0.00015599999999999997\n",
       "  0.0007809999999999998\n",
       "  0.0023974687821693\n",
       "  0.0054696395896070196\n",
       "  0.012442450937067575\n",
       "  0.02473352829581648\n",
       "  0.040120814139428695\n",
       "  0.062386808414222804\n",
       "  0.0824262032615375\n",
       "  ⋮\n",
       "  9.125074233519264\n",
       "  9.212144882483239\n",
       "  9.30120484506764\n",
       "  9.3903924874462\n",
       "  9.476630115363895\n",
       "  9.563441525555492\n",
       "  9.657459082560193\n",
       "  9.742074883864424\n",
       "  9.820042986856684\n",
       "  9.899104444451796\n",
       "  9.975982575168825\n",
       " 10.0"
      ]
     },
     "execution_count": 77,
     "metadata": {},
     "output_type": "execute_result"
    }
   ],
   "source": [
    "#sol.w\n",
    "sol.t"
   ]
  },
  {
   "cell_type": "code",
   "execution_count": 59,
   "id": "3378bb2c-1a55-4b00-8996-ccbd20a26879",
   "metadata": {},
   "outputs": [],
   "source": [
    "size_t = length(sol.t)\n",
    "Σ0L_left = zeros(ComplexF64,4,4,size_t,size_t) #zero(ΣL) \n",
    "Σ0L_right = zeros(ComplexF64,4,4,size_t,size_t) \n",
    "Σ0L_left[1:2,1:2,:,:]=ΣL[1:2,1:2,:,:] \n",
    "Σ0L_right[3:4,3:4,:,:]=ΣL[3:4,3:4,:,:] \n",
    "ΣL_left = GreenFunction(Σ0L_left, SkewHermitian)\n",
    "ΣL_right = GreenFunction(Σ0L_right, SkewHermitian)\n",
    "\n",
    "Σ0G_left = zeros(ComplexF64,4,4,size_t,size_t) #zero(ΣL) \n",
    "Σ0G_right = zeros(ComplexF64,4,4,size_t,size_t) \n",
    "Σ0G_left[1:2,1:2,:,:]=ΣG[1:2,1:2,:,:] \n",
    "Σ0G_right[3:4,3:4,:,:]=ΣG[3:4,3:4,:,:] \n",
    "ΣG_left = GreenFunction(Σ0G_left, SkewHermitian)\n",
    "ΣG_right = GreenFunction(Σ0G_right, SkewHermitian);"
   ]
  },
  {
   "cell_type": "code",
   "execution_count": 60,
   "id": "c3b5870c-14db-44e4-aa80-9b24c3b537bf",
   "metadata": {},
   "outputs": [
    {
     "data": {
      "text/plain": [
       "Π_right (generic function with 1 method)"
      ]
     },
     "execution_count": 60,
     "metadata": {},
     "output_type": "execute_result"
    }
   ],
   "source": [
    "#Π(t) = ∫dss(t,GG, ΣL)- ∫dss(t,GL, ΣG)\n",
    "Π_left(t) = ∫dss(t,GG, ΣL_left)- ∫dss(t,GL, ΣG_left)\n",
    "Π_right(t) = ∫dss(t,GG, ΣL_right)- ∫dss(t,GL, ΣG_right)"
   ]
  },
  {
   "cell_type": "code",
   "execution_count": 61,
   "id": "f35d772c-7995-4416-91fb-7c10da93d211",
   "metadata": {},
   "outputs": [],
   "source": [
    "Curr_left= real(tr.(Π_left.(tss)))\n",
    "Curr_right= real(tr.(Π_right.(tss)));"
   ]
  },
  {
   "cell_type": "code",
   "execution_count": 62,
   "id": "661c9762-a152-4a40-943b-d8b2c1c433d5",
   "metadata": {},
   "outputs": [],
   "source": [
    "cc = [4*pi*Curr_left 4*pi*Curr_right];"
   ]
  },
  {
   "cell_type": "markdown",
   "id": "f59dd86e-048b-46ab-b729-709bac03007f",
   "metadata": {},
   "source": [
    "### Charge density"
   ]
  },
  {
   "cell_type": "code",
   "execution_count": 63,
   "id": "45bedf2e-fbbe-4ac7-8cf1-e162ce9ac0a0",
   "metadata": {},
   "outputs": [],
   "source": [
    "cd1 = [imag(diag(GL[t, t]))[1]  for t in eachindex(sol.t)]\n",
    "cd2 = [imag(diag(GL[t, t]))[2]  for t in eachindex(sol.t)]\n",
    "cd3 = [imag(diag(GL[t, t]))[3]  for t in eachindex(sol.t)]\n",
    "cd4 = [imag(diag(GL[t, t]))[4]  for t in eachindex(sol.t)]\n",
    "\n",
    "cd = [cd1 cd2 cd3 cd4] ;"
   ]
  },
  {
   "cell_type": "code",
   "execution_count": 65,
   "id": "d950d9e6-0cd1-4953-82b8-e6512a45635d",
   "metadata": {},
   "outputs": [],
   "source": [
    "#cd;\n",
    "# PyPlot.plot(sol.t, mapreduce(permutedims, vcat, [imag(diag(GL[t, t])) for t in eachindex(sol.t)]))\n",
    "# PyPlot.plot(sol.t, [imag(diag(GL[t, t])[1]) for t in eachindex(sol.t)] )\n",
    "# PyPlot.plot(sol.t, [imag(diag(GL[t, t])[2]) for t in eachindex(sol.t)] )\n",
    "\n",
    "\n",
    "#cd[:,1]*2"
   ]
  },
  {
   "cell_type": "code",
   "execution_count": 66,
   "id": "307d6ef4-5b51-4498-8b4d-6c44ccf1ad14",
   "metadata": {},
   "outputs": [],
   "source": [
    "#cd[:,4]*2"
   ]
  },
  {
   "cell_type": "markdown",
   "id": "88a51521-de67-44ea-97a4-b1d11a0b69e3",
   "metadata": {},
   "source": [
    "## Figures"
   ]
  },
  {
   "cell_type": "markdown",
   "id": "19738b8e-d652-4a48-ae91-8c1ab7228645",
   "metadata": {},
   "source": [
    "### Load data \n"
   ]
  },
  {
   "cell_type": "code",
   "execution_count": 67,
   "id": "2c10cfd5-c443-4ede-84aa-b1c3d5e958bd",
   "metadata": {},
   "outputs": [
    {
     "data": {
      "text/plain": [
       "25"
      ]
     },
     "execution_count": 67,
     "metadata": {},
     "output_type": "execute_result"
    }
   ],
   "source": [
    "using PyPlot\n",
    "using DelimitedFiles\n",
    "const plt = PyPlot\n",
    "# Set rcParams in Julia\n",
    "plt.rc(\"axes\", linewidth=1)  # Set the linewidth of the plot axes\n",
    "plt.rc(\"text\", usetex=true)  # Enable LaTeX rendering of text\n",
    "fs = 25"
   ]
  },
  {
   "cell_type": "markdown",
   "id": "18e593de-0659-44b1-bf00-439786a70ab3",
   "metadata": {},
   "source": []
  },
  {
   "cell_type": "code",
   "execution_count": null,
   "id": "1ace6573-d28c-4214-8f95-6ba046e3f1fb",
   "metadata": {},
   "outputs": [],
   "source": []
  },
  {
   "cell_type": "markdown",
   "id": "3cc0db5a-b396-4a9b-b988-9376cf0bca8f",
   "metadata": {},
   "source": [
    "### Local density "
   ]
  },
  {
   "cell_type": "code",
   "execution_count": 70,
   "id": "4bc094d0-bfeb-4c42-a8ab-5d9c1fa77c96",
   "metadata": {},
   "outputs": [
    {
     "data": {
      "image/png": "[encoded data removed]",
      "text/plain": [
       "Figure(PyObject <Figure size 640x480 with 1 Axes>)"
      ]
     },
     "metadata": {},
     "output_type": "display_data"
    },
    {
     "data": {
      "text/plain": [
       "PyObject <matplotlib.lines.Line2D object at 0x7f0eaeea2930>"
      ]
     },
     "execution_count": 70,
     "metadata": {},
     "output_type": "execute_result"
    }
   ],
   "source": [
    "\n",
    "fig,axs =  plt.subplots(1,1)\n",
    "site = 1\n",
    "sites = range(1,6)\n",
    "# for i in site \n",
    "#     axs.plot(ts_cd, cden_ta1[:,i]*det,label= \"site=$(i)\")#,alpha =1-0.2*i ) ### Charge bound current\n",
    "#     axs.plot(ts_cd, cden_ta1[:,i+1]*det,label= \"site=$(i+1)\")#\n",
    "# end\n",
    "axs.plot(sol.t, cd[:,1]+cd[:,2],label= \"site=$(1)\")#,alpha =1-0.2*i ) ### Charge bound current\n",
    "axs.plot(sol.t, cd[:,3]+cd[:,4],label= \"site=$(2)\")#\n",
    "#axs.plot(sol.t, cd[:,3].+cd[:,4],label= \"site=$(2)\")\n",
    "\n",
    "axs.set_ylabel(raw\"$\\langle\\mathrm{\\hat{n}^{\\alpha}_i}\\rangle$\", fontsize = fs)\n",
    "axs.set_xlabel(raw\"$\\mathrm{Time\\ (fs)}$\",fontsize = fs)\n",
    "axs.tick_params(axis=\"both\", which=\"both\", labelsize=fs,direction=\"in\", length=6,width=1)\n",
    "axs.ticklabel_format(axis=\"y\", style=\"sci\", scilimits=(-1,2), useMathText=true)\n",
    "axs.yaxis.offsetText.set_fontsize(fs)\n",
    "plt.legend(frameon = false, fontsize = fs-10, loc= (0.7,  0.1))\n",
    "#plt.xlim(100,120)\n",
    "plt.axhline(0.5,ls = \"--\",color=\"gray\",lw = 0.5)\n",
    "#plt.ylim(1-0.1,1+0.1)"
   ]
  },
  {
   "cell_type": "code",
   "execution_count": 53,
   "id": "2e178e35-cc1d-4956-90c8-5d8dd5563d1a",
   "metadata": {},
   "outputs": [
    {
     "data": {
      "text/plain": [
       "2-element Vector{Float64}:\n",
       " 0.0\n",
       " 0.0"
      ]
     },
     "execution_count": 53,
     "metadata": {},
     "output_type": "execute_result"
    }
   ],
   "source": [
    "cc[:,1]"
   ]
  },
  {
   "cell_type": "markdown",
   "id": "f34a516b-d3ac-4a9c-ae52-492010f23bcb",
   "metadata": {},
   "source": [
    "### Charge current "
   ]
  },
  {
   "cell_type": "code",
   "execution_count": 33,
   "id": "539366b7-12d5-4282-9dd0-98cbdf306e0e",
   "metadata": {},
   "outputs": [
    {
     "name": "stderr",
     "output_type": "stream",
     "text": [
      "sys:1: UserWarning: No artists with labels found to put in legend.  Note that artists whose label start with an underscore are ignored when legend() is called with no argument.\n",
      "sys:1: UserWarning: FigureCanvasAgg is non-interactive, and thus cannot be shown\n"
     ]
    },
    {
     "data": {
      "image/png": "[encoded data removed]",
      "text/plain": [
       "Figure(PyObject <Figure size 640x480 with 1 Axes>)"
      ]
     },
     "metadata": {},
     "output_type": "display_data"
    }
   ],
   "source": [
    "fig,axs = plt.subplots(1,1)\n",
    "\n",
    "plt.plot(sol.t, cc[:,1])\n",
    "plt.plot(sol.t, cc[:,2])\n",
    "axs.set_ylabel(L\"$\\mathrm{I\\ (e\\gamma/h)}$\", fontsize = fs)\n",
    "axs.set_xlabel(raw\"$\\mathrm{Time\\ (fs)}$\",fontsize = fs)\n",
    "axs.tick_params(axis=\"both\", which=\"both\", labelsize=fs,direction=\"in\", length=6,width=1)\n",
    "axs.ticklabel_format(axis=\"y\", style=\"sci\", scilimits=(-1,2), useMathText=true)\n",
    "axs.yaxis.offsetText.set_fontsize(fs)\n",
    "plt.legend(frameon = false, fontsize = fs-10, loc= (0.01,  0.8))\n",
    "plt.xlim(-1,60)\n",
    "plt.axhline(0.1,ls = \"--\",lw=0.5)\n",
    "plt.axhline(-0.1,ls = \"--\",lw=0.5)\n",
    "#plt.axhline(0.0,ls = \"--\",lw=0.5)\n",
    "#plt.axhline(0.05,ls = \"--\",lw=0.5)\n",
    "plt.ylim(-2,6.5)\n",
    "plt.show()\n",
    "#plt.ylim(-0.05,0.05)\n",
    "#plt.ylim(-0.2,0.2)\n",
    "#plt.ylim(0.1-1e-2,0.1+1e-2)\n",
    "#plt.xlim(110,120)"
   ]
  },
  {
   "cell_type": "code",
   "execution_count": 30,
   "id": "6316b994-514e-4dda-be93-64a0f66cc391",
   "metadata": {},
   "outputs": [],
   "source": [
    "# using DelimitedFiles\n",
    "# cc_f = open(\"/home/jalil2/Documents/KBA/data/curr_KBE_jl.txt\", \"w+\") \n",
    "\n",
    "# writedlm(cc_f, [sol.t Curr_left], ' ' )\n",
    "\n",
    "# close(cc_f)"
   ]
  },
  {
   "cell_type": "code",
   "execution_count": 31,
   "id": "d7736499-94a2-40f3-8b17-142e2484f54b",
   "metadata": {},
   "outputs": [],
   "source": [
    "# using DelimitedFiles\n",
    "# ccL_f = open(\"./data/ccL_KBE_jl.txt\", \"w+\") \n",
    "# ccR_f = open(\"./data/ccR_KBE_jl.txt\", \"w+\") \n",
    "# writedlm(ccL_f, [sol.t*hbar 4pi*Curr_left], ' ' )\n",
    "# writedlm(ccR_f, [sol.t*hbar 4pi*Curr_right], ' ' )\n",
    "# close(ccL_f)\n",
    "# close(ccR_f)"
   ]
  },
  {
   "cell_type": "code",
   "execution_count": 32,
   "id": "70874c88-583e-4409-8df9-bce56a502726",
   "metadata": {},
   "outputs": [
    {
     "ename": "LoadError",
     "evalue": "UndefVarError: `Curr_left` not defined in `Main`\nSuggestion: check for spelling errors or missing imports.",
     "output_type": "error",
     "traceback": [
      "UndefVarError: `Curr_left` not defined in `Main`\nSuggestion: check for spelling errors or missing imports.",
      "",
      "Stacktrace:",
      " [1] top-level scope",
      "\u001b[90m   @\u001b[39m \u001b[90m\u001b[4mIn[32]:2\u001b[24m\u001b[39m"
     ]
    }
   ],
   "source": [
    "#sol.t*hbar\n",
    "#[sol.t*hbar  4pi*Curr_left]"
   ]
  },
  {
   "cell_type": "code",
   "execution_count": 41,
   "id": "750cb382-d90b-4223-a168-d73c350537bc",
   "metadata": {},
   "outputs": [
    {
     "data": {
      "text/plain": [
       "2.005188776546829"
      ]
     },
     "execution_count": 41,
     "metadata": {},
     "output_type": "execute_result"
    }
   ],
   "source": [
    "#4pi*Curr_left[end]/0.05"
   ]
  },
  {
   "cell_type": "code",
   "execution_count": 44,
   "id": "dfb6b48b-478e-4362-a4f0-915112931f78",
   "metadata": {},
   "outputs": [
    {
     "data": {
      "text/plain": [
       "0.10025943882734145"
      ]
     },
     "execution_count": 44,
     "metadata": {},
     "output_type": "execute_result"
    }
   ],
   "source": [
    "#4pi*Curr_left[end]"
   ]
  },
  {
   "cell_type": "code",
   "execution_count": 56,
   "id": "a91baabe-26b0-4c2b-9f79-6674d9a6ea81",
   "metadata": {},
   "outputs": [],
   "source": [
    "#0.1/0.05\n",
    "#0.096742516300053/0.05"
   ]
  },
  {
   "cell_type": "code",
   "execution_count": 57,
   "id": "dad0a3bc-32b4-488e-87cd-a7f4d77002e0",
   "metadata": {},
   "outputs": [],
   "source": [
    "#plt.plot(sol.t, Curr_right)"
   ]
  },
  {
   "cell_type": "code",
   "execution_count": 58,
   "id": "bdab48b3-24a6-448c-9e65-b6e1584c0f8c",
   "metadata": {},
   "outputs": [],
   "source": [
    "#0.05/0.2"
   ]
  },
  {
   "cell_type": "markdown",
   "id": "950d327b-d8b4-4246-bcb2-29769ce67111",
   "metadata": {},
   "source": [
    "## Save data "
   ]
  },
  {
   "cell_type": "code",
   "execution_count": 34,
   "id": "6cede501-40a5-4882-aaca-65b844f66e49",
   "metadata": {},
   "outputs": [],
   "source": [
    "using DelimitedFiles\n",
    "path = \"/home/jalil2/Documents/KBA/data\"\n",
    "name = \"KBE\";"
   ]
  },
  {
   "cell_type": "markdown",
   "id": "aa98bf6a-66c1-4019-aeff-e37238f57d10",
   "metadata": {},
   "source": []
  },
  {
   "cell_type": "markdown",
   "id": "4fad062e-2ec0-42f2-baa4-5274687cda7f",
   "metadata": {},
   "source": [
    "### Charge current "
   ]
  },
  {
   "cell_type": "code",
   "execution_count": 35,
   "id": "74e27ddc-913b-470f-be06-9deca14cf1ae",
   "metadata": {},
   "outputs": [],
   "source": [
    "#ccL_f = open(\"./data/ccL_GKBA_jl.txt\", \"w+\") \n",
    "cc_f = open(\"$(path)/cc_$(name)_jl.txt\", \"w+\") \n",
    "#writedlm(ccL_f, [sol.t*hbar 4pi*Curr_left], ' ' )\n",
    "writedlm(cc_f, [sol.t cc], ' ' )\n",
    "#writedlm(ccR_f, [ts_cc -4*pi*cc_αt[1,:]], ' ' )\n",
    "#close(ccL_f)\n",
    "close(cc_f)"
   ]
  },
  {
   "cell_type": "markdown",
   "id": "37246505-dde4-4a9c-81ce-16542c12ef8f",
   "metadata": {},
   "source": [
    "### Local density "
   ]
  },
  {
   "cell_type": "code",
   "execution_count": 36,
   "id": "5550c658-6f55-484d-a361-e9d265190af3",
   "metadata": {},
   "outputs": [],
   "source": [
    "cden_f = open(\"$(path)/cd_$(name)_jl.txt\", \"w+\") \n",
    "#writedlm(ccL_f, [sol.t*hbar 4pi*Curr_left], ' ' )\n",
    "writedlm(cden_f, [sol.t cd], ' ' )\n",
    "#close(ccL_f)\n",
    "close(cden_f)"
   ]
  },
  {
   "cell_type": "code",
   "execution_count": null,
   "id": "8884359b-f83e-439c-9b2d-b3a069748f0f",
   "metadata": {},
   "outputs": [],
   "source": []
  }
 ],
 "metadata": {
  "kernelspec": {
   "display_name": "Julia 1.11.3",
   "language": "julia",
   "name": "julia-1.11"
  },
  "language_info": {
   "file_extension": ".jl",
   "mimetype": "application/julia",
   "name": "julia",
   "version": "1.11.3"
  }
 },
 "nbformat": 4,
 "nbformat_minor": 5
}
