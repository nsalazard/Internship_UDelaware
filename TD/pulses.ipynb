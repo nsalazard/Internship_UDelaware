{
 "cells": [
  {
   "cell_type": "code",
   "execution_count": 2,
   "id": "dd73f543-bb65-466f-a7ad-4370a85593fb",
   "metadata": {},
   "outputs": [],
   "source": [
    "import numpy as np\n",
    "import matplotlib.pyplot as plt\n",
    "import sys\n",
    "offset = 400\n",
    "from matplotlib import rcParams\n",
    "from matplotlib.ticker import (MultipleLocator, AutoMinorLocator)\n",
    "rcParams['axes.linewidth']=2\n",
    "rcParams['text.usetex']=True#True\n",
    "path = \"/home/jalil/Projects2023/TDNEGF/TDNEGF/data/\""
   ]
  },
  {
   "cell_type": "code",
   "execution_count": 3,
   "id": "3ef6f8b9-8d93-4a77-a01f-5eb6eb313001",
   "metadata": {},
   "outputs": [],
   "source": [
    "def rectangle(v, a):\n",
    "        profile = []\n",
    "        for i in range(1100):\n",
    "                if i>offset and i<(offset+a):\n",
    "                        profile.append([v, -v])\n",
    "                else: profile.append([0.0, 0.0])\n",
    "        np.savetxt(\"vtd.txt\", np.array(profile))\n",
    "        return np.array(profile)\n",
    "def delayBias(v, a):\n",
    "        profile = []\n",
    "        for i in range(1000):\n",
    "                if  i>a/0.1:\n",
    "                        profile.append([v/2, -v/2])\n",
    "                else: profile.append([1e-10, 1e-10])\n",
    "        np.savetxt(\"vtd.txt\", np.array(profile))\n",
    "        return np.array(profile)\n",
    "def triangle(v, a):\n",
    "    profile = []\n",
    "    for i in range(400):\n",
    "        if i>offset and i<(offset+a):\n",
    "            h = 1-2*abs(i-offset-a/2)/a\n",
    "            profile.append([v*h, 0.0])\n",
    "        else: profile.append([0.0, 0.0])\n",
    "    np.savetxt(\"vtd.txt\", np.array(profile))\n",
    "    return np.array(profile)\n",
    "def leviton(v, a):\n",
    "    profile = []\n",
    "    for i in range(1100):\n",
    "        ##if i<(30*a):\n",
    "        h = 2*0.658212*a/((i-20*a)*(i-20*a)+a*a)\n",
    "        profile.append([v*h, -v*h])\n",
    "        ##else: profile.append([0.0, 0.0])\n",
    "    np.savetxt(\"vtd.txt\", np.array(profile))\n",
    "    return np.array(profile)\n",
    "def beam(v, a):\n",
    "        profile = []\n",
    "        for i in range(4000):\n",
    "                profile.append([v, 0.0])\n",
    "        np.savetxt(\"vtd.txt\", np.array(profile))\n",
    "        return np.array(profile)\n",
    "def smBeam(v, a):\n",
    "        profile = []\n",
    "        for i in range(4000):\n",
    "                profile.append([np.tanh((i-6*a)/(2.5*a))+1, 0.0])\n",
    "        np.savetxt(\"vtd.txt\", v*np.array(profile))\n",
    "        return v*np.array(profile)\n",
    "def smBias(v, a):\n",
    "        profile = []\n",
    "        for i in range(1100):\n",
    "                profile.append([0.5*np.tanh((i-6*a)/(2.5*a))+0.5, -0.5*np.tanh((i-6*a)/(2.5*a))-0.5])\n",
    "        np.savetxt(\"vtd.txt\", v*0.5*np.array(profile))\n",
    "        return v*0.5*np.array(profile)"
   ]
  },
  {
   "cell_type": "code",
   "execution_count": 4,
   "id": "e650fa39-b49f-48c3-a75d-73db21cce214",
   "metadata": {},
   "outputs": [],
   "source": [
    "#funcDir = {\"rect\":rectangle, \"tri\":triangle, \"levi\":leviton, \"beam\":beam, \"smBeam\":smBeam, \"smBias\":smBias, \"delayBias\":delayBias}\n",
    "#funcDir[sys.argv[1]](float(sys.argv[2]), float(sys.argv[3]))\n",
    "\n",
    "#50/0.1"
   ]
  },
  {
   "cell_type": "code",
   "execution_count": 39,
   "id": "4ffc3e04-23f0-4308-b623-e3ef56152a0d",
   "metadata": {},
   "outputs": [
    {
     "data": {
      "text/plain": [
       "<matplotlib.legend.Legend at 0x7fc1e0d173a0>"
      ]
     },
     "execution_count": 39,
     "metadata": {},
     "output_type": "execute_result"
    },
    {
     "data": {
      "image/png": "[encoded data removed]",
      "text/plain": [
       "<Figure size 640x480 with 1 Axes>"
      ]
     },
     "metadata": {},
     "output_type": "display_data"
    }
   ],
   "source": [
    "#plt.plot(rectangle(1,200)[:,0])\n",
    "#plt.plot(delayBias(10,10))\n",
    "#plt.plot(triangle(10,10))\n",
    "#plt.plot(leviton(500,90)) ##### first index is the height and the second index is the lenght\n",
    "#plt.plot(beam(50,10))\n",
    "#plt.plot(smBeam(100,100))\n",
    "plt.ylabel(r\"$V_b\\ \\rm{(eV)}$\",fontsize=20)\n",
    "plt.xlabel(r\"$\\rm{Time\\ step (dt=0.1\\ fs)}$\",fontsize=20)\n",
    "#plt.plot(smBias(.2,300)[:,0])\n",
    "plt.plot(-smBias(.05,30)[:,1],ls = \"--\")\n",
    "#plt.plot(leviton(.5,20)[:,0])\n",
    "##plt.plot(-leviton(.5,20)[:,:],ls='--')\n",
    "##plt.plot(-rectangle(.03,200)[:,:],ls='--')\n",
    "#plt.plot(leviton(0.02,100))\n",
    "# plt.plot(leviton(1.0,200))\n",
    "plt.tick_params(labelsize=20)\n",
    "plt.legend([\"Left Lead\",\"Right Lead\"], frameon =False,fontsize=20)\n",
    "#plt.ylim([-1e-4,1e-4])"
   ]
  },
  {
   "cell_type": "code",
   "execution_count": 38,
   "id": "f8985261-926e-45b7-a51c-156c4ab363f3",
   "metadata": {},
   "outputs": [],
   "source": [
    "##### Then we can use three different frequencies \n",
    "### With the parameters of the paper we have\n",
    "hbar = 0.658211928e0 # (eV*fs)\n",
    "E_g = 2.28#2.0#4.0##2.28 # in EV or units of the Hamiltonian\n",
    "### The energy is 2.28\n",
    "Omega_0 = E_g/(hbar)*0.5#1.2\n",
    "#Omega_1 = E_g/(hbar)*0.1\n",
    "#Omega_2 = E_g/(hbar)*0.6\n",
    "# Omega_3 = E_g/(hbar)*0.8\n",
    "# Omega_4 = E_g/(hbar)*1.0\n",
    "# Omega_5 = E_g/(hbar)*1.2\n",
    "\n",
    "### Ahora hbarOmega = 2.28\n",
    "### y Omega esta en unidad 1/fs\n",
    "\n",
    "#### Pulse of light\n",
    "# Parameters \n",
    "A_max = 1#0.5\n",
    "sigma = 25\n",
    "t_p = 4*sigma\n",
    "#Omega_0 = Omega_3\n",
    "ts = np.arange(0,8*sigma,0.1)#np.linspace(0,100,500)\n",
    "def A(t,Omega_0=Omega_0):\n",
    "    return A_max*np.exp(-(t-t_p)**2/(2*sigma^2))*np.sin(Omega_0*t)\n",
    "    \n",
    "As_0 = [A(t,Omega_0=Omega_0) for t in ts ]     \n",
    "As_1 = [A(t,Omega_0=Omega_1) for t in ts ] \n",
    "As_2 = [A(t,Omega_0=Omega_2) for t in ts ] \n",
    "# As_3 = [A(t,Omega_0=Omega_3) for t in ts ] \n",
    "# As_4 = [A(t,Omega_0=Omega_4) for t in ts ] \n",
    "# As_5 = [A(t,Omega_0=Omega_5) for t in ts ] \n"
   ]
  },
  {
   "cell_type": "code",
   "execution_count": 40,
   "id": "867533dd-0a47-4d29-8500-203edb5feb1f",
   "metadata": {},
   "outputs": [],
   "source": [
    "np.savetxt(\"pulse_05_gap.txt\",As_0 )## test_3 0.01\n",
    "#np.savetxt(\"pulse_test_1.txt\",As_1 )## test_4 0.2\n",
    "#np.savetxt(\"pulse_test_2.txt\",As_2 )## test 0.1\n",
    "#np.savetxt(\"pulse_test_3.txt\",As_3 )\n",
    "#np.savetxt(\"pulse_test_4.txt\",As_4 ) ## test_5 0.1\n",
    "#np.savetxt(\"pulse_test_5.txt\",As_5 )## test_2 0.01\n"
   ]
  },
  {
   "cell_type": "code",
   "execution_count": 35,
   "id": "cf8f8a39-f0f0-4f3a-bd2b-18a6d88db8dc",
   "metadata": {},
   "outputs": [
    {
     "data": {
      "text/plain": [
       "0.014994569349538373"
      ]
     },
     "execution_count": 35,
     "metadata": {},
     "output_type": "execute_result"
    }
   ],
   "source": [
    "(0.1/hbar)*(2*np.pi/20)**2"
   ]
  },
  {
   "cell_type": "code",
   "execution_count": 36,
   "id": "6eddbd7b-ff30-4035-8a0f-2fe5dfe48ee2",
   "metadata": {},
   "outputs": [
    {
     "data": {
      "text/plain": [
       "0.30000000000000004"
      ]
     },
     "execution_count": 36,
     "metadata": {},
     "output_type": "execute_result"
    }
   ],
   "source": [
    "0.2*3/2"
   ]
  },
  {
   "cell_type": "code",
   "execution_count": 37,
   "id": "51b4f9b5-92e7-4462-9b5e-808084e35a0a",
   "metadata": {},
   "outputs": [
    {
     "data": {
      "text/plain": [
       "[<matplotlib.lines.Line2D at 0x7f394ccb2150>]"
      ]
     },
     "execution_count": 37,
     "metadata": {},
     "output_type": "execute_result"
    },
    {
     "data": {
      "image/png": "[encoded data removed]",
      "text/plain": [
       "<Figure size 640x480 with 1 Axes>"
      ]
     },
     "metadata": {},
     "output_type": "display_data"
    }
   ],
   "source": [
    "plt.plot(ts,As_0)\n",
    "# plt.plot(ts,As_2)\n",
    "# plt.plot(ts,As_3)\n",
    "#plt.xlim([20,80])"
   ]
  },
  {
   "cell_type": "code",
   "execution_count": null,
   "id": "88f86e64-e04f-41bc-8f74-9aa8a0bfae88",
   "metadata": {},
   "outputs": [],
   "source": []
  }
 ],
 "metadata": {
  "kernelspec": {
   "display_name": "Python 3 (ipykernel)",
   "language": "python",
   "name": "python3"
  },
  "language_info": {
   "codemirror_mode": {
    "name": "ipython",
    "version": 3
   },
   "file_extension": ".py",
   "mimetype": "text/x-python",
   "name": "python",
   "nbconvert_exporter": "python",
   "pygments_lexer": "ipython3",
   "version": "3.12.2"
  }
 },
 "nbformat": 4,
 "nbformat_minor": 5
}
